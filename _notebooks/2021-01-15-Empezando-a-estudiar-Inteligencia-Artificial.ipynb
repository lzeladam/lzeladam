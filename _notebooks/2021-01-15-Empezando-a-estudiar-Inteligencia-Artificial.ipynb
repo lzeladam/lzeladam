{
 "metadata": {
  "language_info": {
   "codemirror_mode": {
    "name": "ipython",
    "version": 3
   },
   "file_extension": ".py",
   "mimetype": "text/x-python",
   "name": "python",
   "nbconvert_exporter": "python",
   "pygments_lexer": "ipython3",
   "version": 3
  },
  "orig_nbformat": 2
 },
 "nbformat": 4,
 "nbformat_minor": 2,
 "cells": [
  {
   "source": [
    "# \"Empezando a estudiar Inteligencia Artificial\"\n",
    "> \"Mi granito de arena\"\n",
    "\n",
    "- toc: true\n",
    "- branch: master\n",
    "- badges: true\n",
    "- comments: true\n",
    "- author: Alexander Zelada\n",
    "- categories: [DeepLearning, InteligenciaArtificial]"
   ],
   "cell_type": "markdown",
   "metadata": {}
  }
 ]
}