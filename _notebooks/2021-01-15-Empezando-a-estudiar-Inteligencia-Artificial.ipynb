{
 "cells": [
  {
   "cell_type": "markdown",
   "metadata": {},
   "source": [
    "# \"Empezando a estudiar Inteligencia Artificial\"\n",
    "> \"Mi granito de arena\"\n",
    "\n",
    "- toc: true\n",
    "- branch: master\n",
    "- badges: true\n",
    "- comments: true\n",
    "- author: Alexander Zelada\n",
    "- categories: [DeepLearning, InteligenciaArtificial]\n",
    "- image: images/automobile.png\\n"
   ]
  },
  {
   "cell_type": "markdown",
   "metadata": {},
   "source": [
    "Hace unos años cuando decidí estudiar Inteligencia Artificial no sabía por dónde empezar. Recordaba muy poco de álgebra lineal, cálculo y estadística. Por otro lado, los documentos de divulgación científica se encontraban en inglés y en ese momento mi nivel de inglés era muy bajo, entonces tenía dos obstáculos: los fundamentos matemáticos y el idioma.\n",
    "\n",
    "Así que lo primero que hice fue buscar “Cursos de Inteligencia Artificial“ en Google y el resultado fue de todo tipo, desde maestrías, moocs, bootcamps,repositorios de código y blogs. Algunos de ellos decían que no era necesario aprender matemáticas, otros que sí, términos como [Machine Learning](https://es.wikipedia.org/wiki/Aprendizaje_autom%C3%A1tico), [Deep Learning](https://es.wikipedia.org/wiki/Aprendizaje_profundo), [Computer Vision](https://es.wikipedia.org/wiki/Visi%C3%B3n_artificial), [Natural Language Processing](https://es.wikipedia.org/wiki/Procesamiento_de_lenguajes_naturales), currsos por determinado lenguaje programación, también encontré que existían librerías como [Tensorflow](https://www.tensorflow.org/), [Caffe](https://caffe.berkeleyvision.org/), [Pythorch](https://pytorch.org/), etc. \n",
    "\n",
    "Y finalmente estaban los informes, encuestas y estudios sobre la situación actual y la tendencia del mercado en Inteligencia Artificial.\n",
    "\n",
    "Si todos estos recursos te abrumaron y acabaron con tus ganas de estudiar simplemente porque no sabías por donde empezar, verás que no fuiste el único, yo también pasé por lo mismo.\n",
    "\n",
    "En ese tiempo de bloqueo me mantuve consumiendo el lado más romántico y filosófico de la inteligencia artificial mediante libros y películas de ciencia ficción, pero decidí intentar estudiar nuevamente la parte técnica, para eso me planteé eliminar los obstáculos que mencioné al inicio con los siguientes compromisos:\n",
    "\n",
    "- Estudiar inglés de manera constante\n",
    "- Crear un blog para llevar mis apuntes\n",
    "- Estudiar los fundamentos Matemáticos\n",
    "- Consumir recursos como audiobooks, ebook, papers, películas y documentales.\n",
    "\n",
    "La razón de ser de este blog es justamente compartir mi aprendizaje contigo, hacerlo más accesible y decirte que a pesar de la gran cantidad de términos, formulas y código no tienes que ser un [Andrew Ng](https://en.wikipedia.org/wiki/Andrew_Ng) o un [Yann LeCun](https://en.wikipedia.org/wiki/Yann_LeCun) para comprender este mundo e ir progresando si te planteas objetivos realistas y eres constante como el [T-800](https://terminator.fandom.com/wiki/T-800).\n",
    "\n"
   ]
  }
 ],
 "metadata": {
  "kernelspec": {
   "display_name": "Python 3",
   "language": "python",
   "name": "python3"
  },
  "language_info": {
   "codemirror_mode": {
    "name": "ipython",
    "version": 3
   },
   "file_extension": ".py",
   "mimetype": "text/x-python",
   "name": "python",
   "nbconvert_exporter": "python",
   "pygments_lexer": "ipython3",
   "version": "3.8.5"
  }
 },
 "nbformat": 4,
 "nbformat_minor": 2
}