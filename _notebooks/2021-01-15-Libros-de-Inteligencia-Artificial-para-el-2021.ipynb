{
 "cells": [
  {
   "cell_type": "markdown",
   "metadata": {},
   "source": [
    "# \"Libros de Inteligencia Artificial para el 2021\"\n",
    "> \"Programando mi año de estudios\"\n",
    "\n",
    "- toc: true\n",
    "- branch: master\n",
    "- badges: true\n",
    "- comments: true\n",
    "- author: Alexander Zelada\n",
    "- categories: [DeepLearning, Books, EthicalAI]"
   ]
  },
  {
   "cell_type": "markdown",
   "metadata": {},
   "source": [
    "Los primeros días del 2021 lo he invertido en revisar los libros que quisiera leer durante el resto del año, los temas que seleccioné tienen correlación con mi plan de estudios y mi genero de literatura favorito:\n",
    "\n",
    "- Ética y Sesgos AI\n",
    "- Privacidad AI\n",
    "- Conciencia y Pensamiento\n",
    "- Sociedad de la Información\n",
    "- Fundamentos Matemáticos y Estadística para Deep Learning\n",
    "- Ciencia Ficción\n",
    "\n",
    "El listado no tiene un orden de lectura. Quiero que sea una publicación viva, es decir que iré actualizándola con reseñas y más títulos; es de esperar que la gran mayoría de estos libros se encuentren en inglés (motivo para salir de mi zona de confort), pero por suerte también he agregado un link a los ya tienen una edición en español.\n",
    "\n",
    "## Libros de divulgación"
   ]
  },
  {
   "cell_type": "markdown",
   "metadata": {},
   "source": [
    "1. El enemigo conoce el sistema: Manipulación de ideas, personas e influencias después de la economía de la atención\n",
    "2. Artifical Intelligence: A Guide for Thinking Humans\n",
    "3. Godel, Escher, Bach: An Eternal Golden Braid y en español se titula: Gödel, Escher, Bach: Un eterno y grácil bucle\n",
    "4. Invisible Women: Exposing Data Bias in a World Designed for Men y en español se titula: La mujer invisible: Descubre cómo los datos configuran un mundo hecho por y para los hombres\n",
    "5. The Ethical Algorithm: The Science of Socially Aware Algorithm Design y en español se titula: El algoritmo Ético. La Ciencia Del Diseño de algoritmos socialmente responsables\n",
    "6. The Overstory: A Novel y en español se titula: El clamor de los bosques\n",
    "7. Apollo 13\n",
    "8. Captivating Technology: Race, Carceral Technoscience, and Liberatory Imagination in Everyday Life\n",
    "9. Race After Technology: Abolitionist Tools for the New Jim Code\n",
    "10. When Breath Becomes Air y en español se titula: Recuerda que vas a morir. Vive (Los Tres Mundos)\n",
    "11. Supersizing the Mind: Embodiment, Action, and Cognitive Extension (Philosophy of Mind)\n",
    "12. The Beginning of Infinity: Explanations That Transform the world\n",
    "13. Other Minds: The Octopus, the Sea, and the Deep Origins of Consciousness y en español se titula: Otras mentes. El pulpo, el mar y los origenes profundos de la consciencia\n",
    "14. Neural-Symbolic Cognitive Reasoning (Cognitive Technologies)\n",
    "15. Superintelligence: Paths, Dangers, Strategies y en español se titula: Superinteligencia: Caminos, peligros, estrategias\n",
    "16. Human + Machine: Reimagining Work in the Age of AI\n",
    "17. How to Create a Mind: The Secret of Human Thought Revealed y en español se titula: Cómo crear una mente\n",
    "18. The Singularity Is Near: When Humans Transcend Biology y en español se titula: La Singularidad está cerca\n",
    "19. The Sentient Machine: The Coming Age of Artificial Intelligence\n",
    "20. The Second Machine Age: Work, Progress, and Prosperity in a Time of Brilliant Technologies\n",
    "21. The Simulation Hypothesis: An MIT Computer Scientist Shows Why AI, Quantum Physics and Eastern Mystics All Agree We Are In a Video Game\n",
    "22. Privacy is Power Why and How You Should Take Back Control of Your Data\n",
    "23. What Do We Know and What Should We Do About Internet Privacy?\n",
    "24. Privacy in Context: Technology, Policy, and the Integrity of Social Life\n",
    "25. Privacy: A Short History\n",
    "26. The Age of Surveillance Capitalism. The Fight for a Human Future at the New Frontier of Power y en español se titula: La era del capitalismo de la vigilancia: La lucha por un futuro humano frente a las nuevas fronteras del poder (Estado y Sociedad)\n",
    "27. T-Minus AI: Humanity’s Countdown to Artificial Intelligence and the New Pursuit of Global Power\n",
    "28. Thinking, Fast & Slow y en español se titula: Pensar rápido, pensar despacio (Psicología)"
   ]
  },
  {
   "cell_type": "markdown",
   "metadata": {},
   "source": [
    "## Libros de ficción"
   ]
  },
  {
   "cell_type": "markdown",
   "metadata": {},
   "source": [
    "1. Zed\n",
    "2. Artificial Condition: The Murderbot Diaries (Condición artificial: Los diarios de Matabot (Alethé))"
   ]
  },
  {
   "cell_type": "markdown",
   "metadata": {},
   "source": [
    "## Libros de consulta"
   ]
  },
  {
   "cell_type": "markdown",
   "metadata": {},
   "source": [
    "1. Deep Learning (Adaptive Computation and Machine Learning series)\n",
    "2. Understanding Machine Learning: From Theory to Algorithms\n",
    "3. Intro to Statistical Learning, with Applications in R\n",
    "4. The Elements of Statistical Learning: Data Mining, Inference, and Prediction\n",
    "5. Computer Age Statistical Inference: Algorithms, Evidence, and Data Science\n",
    "6. Reinforcement Learning: An Introduction (Adaptive Computation and Machine Learning series)\n",
    "7. Algorithms for Data and Computation Privacy"
   ]
  },
  {
   "cell_type": "markdown",
   "metadata": {},
   "source": [
    "Para este post tomé como referencias a las siguientes fuentes :"
   ]
  },
  {
   "cell_type": "markdown",
   "metadata": {},
   "source": [
    "* HAI Recommended Reading: 10 Books Worth Checking Out\n",
    "* Our Privacy Opportunity course by OpenMined"
   ]
  }
 ],
 "metadata": {
  "kernelspec": {
   "display_name": "Python 3",
   "language": "python",
   "name": "python3"
  },
  "language_info": {
   "codemirror_mode": {
    "name": "ipython",
    "version": 3
   },
   "file_extension": ".py",
   "mimetype": "text/x-python",
   "name": "python",
   "nbconvert_exporter": "python",
   "pygments_lexer": "ipython3",
   "version": "3.8.5"
  }
 },
 "nbformat": 4,
 "nbformat_minor": 4
}
